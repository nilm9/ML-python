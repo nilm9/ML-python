{
 "cells": [
  {
   "cell_type": "markdown",
   "id": "e89f4b9c-bd32-468d-8075-38bd83013511",
   "metadata": {},
   "source": [
    "# Linear Regresion Models"
   ]
  },
  {
   "cell_type": "markdown",
   "id": "b88e480d-4bfc-4dcb-8c72-7a492513a4a4",
   "metadata": {},
   "source": [
    "## Model with simulated data"
   ]
  },
  {
   "cell_type": "markdown",
   "id": "151b7292-5ce5-48dc-bdc1-f674fe0b31ac",
   "metadata": {},
   "source": [
    "* y = a+b*x\n",
    "* X: 100 values distributed following a N(1.5, 2.5)\n",
    "* Ye = 2 + 0.3 * x + e\n",
    "* e distributed following a N(0, 0.8)"
   ]
  },
  {
   "cell_type": "code",
   "execution_count": 23,
   "id": "a63260bb-51c6-438c-9bb7-ba4d67dd250c",
   "metadata": {},
   "outputs": [],
   "source": [
    "import pandas as pd\n",
    "import numpy as np\n",
    "x = 1.5 + 2.5 * np.random.randn(100)\n",
    "res = 0 + 0.8 * np.random.randn(100)\n",
    "yPred = 5+ 1.9* x\n",
    "yAct = 5+ 1.9* x + res"
   ]
  },
  {
   "cell_type": "code",
   "execution_count": 24,
   "id": "634bef81-1026-4a04-a02c-069aa0d5a3ab",
   "metadata": {},
   "outputs": [],
   "source": [
    "xList = x.tolist()\n",
    "yPredList = yPred.tolist()\n",
    "yActList =yAct.tolist()"
   ]
  },
  {
   "cell_type": "code",
   "execution_count": 25,
   "id": "12cf6e50-4526-4cf6-bf67-3ce6fc9c13e6",
   "metadata": {},
   "outputs": [],
   "source": [
    "data = pd.DataFrame(\n",
    "    {\n",
    "        \"x\": xList,\n",
    "        \"yAct\": yActList,\n",
    "        \"yPred\": yPredList\n",
    "    }\n",
    ")\n"
   ]
  },
  {
   "cell_type": "code",
   "execution_count": 26,
   "id": "89f7fc43-6e77-45f5-a6ec-8d3eff6ca6eb",
   "metadata": {},
   "outputs": [],
   "source": [
    "data.head()\n",
    "import matplotlib.pyplot as plt\n",
    "yMean = [np.mean(yAct) for i in range(1, len(xList)+ 1)  ]"
   ]
  },
  {
   "cell_type": "code",
   "execution_count": 28,
   "id": "5eb8012f-57e3-4fb8-b458-a8abef9d1c37",
   "metadata": {},
   "outputs": [
    {
     "data": {
      "text/plain": [
       "Text(0.5, 1.0, 'Actual value vs pred')"
      ]
     },
     "execution_count": 28,
     "metadata": {},
     "output_type": "execute_result"
    },
    {
     "data": {
      "image/png": "[encoded data removed]",
      "text/plain": [
       "<Figure size 432x288 with 1 Axes>"
      ]
     },
     "metadata": {
      "needs_background": "light"
     },
     "output_type": "display_data"
    }
   ],
   "source": [
    "%matplotlib inline\n",
    "plt.plot(x, yPred)\n",
    "plt.plot(x, yAct, \"ro\")\n",
    "plt.plot(x, yMean, \"g\")\n",
    "plt.title(\"Actual value vs pred\")"
   ]
  },
  {
   "cell_type": "code",
   "execution_count": null,
   "id": "2785dc09-da7f-4a72-b4e3-c2babf821396",
   "metadata": {},
   "outputs": [],
   "source": []
  },
  {
   "cell_type": "markdown",
   "id": "34ca34e2-a5c9-4043-97e5-dd18f95f2652",
   "metadata": {},
   "source": [
    "## The regression line \n"
   ]
  },
  {
   "cell_type": "markdown",
   "id": "f8d6575c-d560-4e0e-91b7-0b76d301db9f",
   "metadata": {},
   "source": [
    "* y= a + b*x\n",
    "* b= sum((xl- x_m)*(y_l-y_m))/sum((xl-x_m)^2)\n",
    "* a= y_m - b*x_m\n"
   ]
  },
  {
   "cell_type": "code",
   "execution_count": 29,
   "id": "7851febe-c27c-4190-902c-7696fd020dc8",
   "metadata": {},
   "outputs": [
    {
     "data": {
      "text/plain": [
       "(1.9060166479303013, 8.735216275363518)"
      ]
     },
     "execution_count": 29,
     "metadata": {},
     "output_type": "execute_result"
    }
   ],
   "source": [
    "import numpy as np\n",
    "x_mean = np.mean(data[\"x\"])\n",
    "y_mean = np.mean(data[\"yAct\"])\n",
    "x_mean, y_mean"
   ]
  },
  {
   "cell_type": "code",
   "execution_count": 30,
   "id": "dce68f68-9965-4486-b40b-517a8a2800ae",
   "metadata": {},
   "outputs": [],
   "source": [
    "data[\"betaN\"] = (data[\"x\"]-x_mean)*(data[\"yAct\"]-y_mean)\n",
    "data[\"betaD\"] =  (data[\"x\"]-x_mean)**2"
   ]
  },
  {
   "cell_type": "code",
   "execution_count": 31,
   "id": "014b0535-056c-4d1f-b6ca-8eea9a5ef8b0",
   "metadata": {},
   "outputs": [
    {
     "data": {
      "text/plain": [
       "(5.095479796451462, 1.9096037187630863)"
      ]
     },
     "execution_count": 31,
     "metadata": {},
     "output_type": "execute_result"
    }
   ],
   "source": [
    "beta = sum(data[\"betaN\"])/sum(data[\"betaD\"])\n",
    "alpha = y_mean - beta * x_mean\n",
    "alpha,beta"
   ]
  },
  {
   "cell_type": "code",
   "execution_count": 32,
   "id": "6cafef2a-ddea-4502-bd8c-44a6d2b9f28e",
   "metadata": {},
   "outputs": [],
   "source": [
    "#regression model obtained\n",
    "y = alpha + beta *x\n"
   ]
  },
  {
   "cell_type": "code",
   "execution_count": null,
   "id": "41a0309f-7450-42ad-859d-6113c2f2b104",
   "metadata": {},
   "outputs": [],
   "source": []
  },
  {
   "cell_type": "code",
   "execution_count": null,
   "id": "f3061c20-8f1c-4614-8c16-01fb2ddaf03a",
   "metadata": {},
   "outputs": [],
   "source": []
  },
  {
   "cell_type": "code",
   "execution_count": null,
   "id": "7751e798-08db-43f6-9e61-e017ea27fc6f",
   "metadata": {},
   "outputs": [],
   "source": []
  },
  {
   "cell_type": "code",
   "execution_count": null,
   "id": "7647e9e4-d97d-4c10-906f-cc73c5b6571b",
   "metadata": {},
   "outputs": [],
   "source": []
  },
  {
   "cell_type": "code",
   "execution_count": null,
   "id": "9ddf9b49-16da-4fbf-a3b9-4c4de3812442",
   "metadata": {},
   "outputs": [],
   "source": []
  },
  {
   "cell_type": "code",
   "execution_count": null,
   "id": "d4864ecb-f002-4cb1-93a1-12253ee0546d",
   "metadata": {},
   "outputs": [],
   "source": []
  },
  {
   "cell_type": "code",
   "execution_count": null,
   "id": "e283e7df-8a3a-4eb3-931e-52f536272778",
   "metadata": {},
   "outputs": [],
   "source": []
  }
 ],
 "metadata": {
  "kernelspec": {
   "display_name": "anaconda-2022.05-py39",
   "language": "python",
   "name": "conda-env-anaconda-2022.05-py39-py"
  },
  "language_info": {
   "codemirror_mode": {
    "name": "ipython",
    "version": 3
   },
   "file_extension": ".py",
   "mimetype": "text/x-python",
   "name": "python",
   "nbconvert_exporter": "python",
   "pygments_lexer": "ipython3",
   "version": "3.9.12"
  }
 },
 "nbformat": 4,
 "nbformat_minor": 5
}
