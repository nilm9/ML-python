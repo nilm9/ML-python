{
 "cells": [
  {
   "cell_type": "markdown",
   "id": "a3dc9a23-bbf2-4f41-99a0-36a178a3c737",
   "metadata": {},
   "source": [
    "## Traning and testing dataset"
   ]
  },
  {
   "cell_type": "code",
   "execution_count": 21,
   "id": "f2b50b35-44a2-47fb-ac5e-d5bc927b68d5",
   "metadata": {},
   "outputs": [],
   "source": [
    "import pandas as pd\n",
    "import numpy as np\n",
    "import matplotlib.pyplot as plt\n",
    "data= pd.read_csv(\"https://raw.githubusercontent.com/joanby/python-ml-course/master/datasets/customer-churn-model/Customer%20Churn%20Model.txt\")"
   ]
  },
  {
   "cell_type": "code",
   "execution_count": 22,
   "id": "f8844d98-78e4-46a4-bde5-8eceb7e61a12",
   "metadata": {},
   "outputs": [
    {
     "data": {
      "text/plain": [
       "3333"
      ]
     },
     "execution_count": 22,
     "metadata": {},
     "output_type": "execute_result"
    }
   ],
   "source": [
    "len(data)"
   ]
  },
  {
   "cell_type": "markdown",
   "id": "4662c7ce-513b-4dba-a800-76d4e869261f",
   "metadata": {},
   "source": [
    "## Dividing using normal distrb"
   ]
  },
  {
   "cell_type": "code",
   "execution_count": 23,
   "id": "e96734a6-b5bc-4508-9e3f-5b949e42b168",
   "metadata": {},
   "outputs": [],
   "source": [
    "a = np.random.randn(len(data))"
   ]
  },
  {
   "cell_type": "code",
   "execution_count": 24,
   "id": "3e5fb9e8-9ed4-4a5a-bfd1-5a1f3d5d9e8f",
   "metadata": {},
   "outputs": [
    {
     "data": {
      "text/plain": [
       "array([ 0.49249009,  0.77248757,  0.61860066, ...,  1.69575395,\n",
       "       -0.9784118 ,  1.30200857])"
      ]
     },
     "execution_count": 24,
     "metadata": {},
     "output_type": "execute_result"
    }
   ],
   "source": [
    "a\n"
   ]
  },
  {
   "cell_type": "code",
   "execution_count": 25,
   "id": "3cd913cf-2a2c-4107-bbb2-c5a16f65738b",
   "metadata": {},
   "outputs": [
    {
     "data": {
      "text/plain": [
       "(array([  4.,  45., 190., 512., 879., 875., 569., 200.,  47.,  12.]),\n",
       " array([-3.63285634, -2.91805099, -2.20324565, -1.48844031, -0.77363496,\n",
       "        -0.05882962,  0.65597572,  1.37078107,  2.08558641,  2.80039176,\n",
       "         3.5151971 ]),\n",
       " <BarContainer object of 10 artists>)"
      ]
     },
     "execution_count": 25,
     "metadata": {},
     "output_type": "execute_result"
    },
    {
     "data": {
      "image/png": "[encoded data removed]",
      "text/plain": [
       "<Figure size 432x288 with 1 Axes>"
      ]
     },
     "metadata": {
      "needs_background": "light"
     },
     "output_type": "display_data"
    }
   ],
   "source": [
    "plt.hist(a)\n",
    "\n",
    "    "
   ]
  },
  {
   "cell_type": "code",
   "execution_count": 26,
   "id": "b3807df3-309d-4d30-a6d1-e2f39e402121",
   "metadata": {},
   "outputs": [],
   "source": [
    "check = (a<0.8)"
   ]
  },
  {
   "cell_type": "code",
   "execution_count": 27,
   "id": "a2bdb29a-24bf-420a-ae9f-d9001ca9a553",
   "metadata": {},
   "outputs": [
    {
     "data": {
      "text/plain": [
       "array([ True,  True,  True, ..., False,  True, False])"
      ]
     },
     "execution_count": 27,
     "metadata": {},
     "output_type": "execute_result"
    }
   ],
   "source": [
    "check"
   ]
  },
  {
   "cell_type": "code",
   "execution_count": 33,
   "id": "a2439681-e384-4a04-85e4-eea7ffa0ca34",
   "metadata": {},
   "outputs": [
    {
     "data": {
      "text/plain": [
       "2637"
      ]
     },
     "execution_count": 33,
     "metadata": {},
     "output_type": "execute_result"
    }
   ],
   "source": [
    "traing = data[check]\n",
    "testing = data[~check]\n",
    "len(traing)\n"
   ]
  },
  {
   "cell_type": "code",
   "execution_count": 34,
   "id": "6f0a6be6-0d33-4734-9be1-5f26f0e92144",
   "metadata": {},
   "outputs": [
    {
     "data": {
      "text/plain": [
       "696"
      ]
     },
     "execution_count": 34,
     "metadata": {},
     "output_type": "execute_result"
    }
   ],
   "source": [
    "len(testing)\n"
   ]
  },
  {
   "cell_type": "markdown",
   "id": "93847a9f-a719-4bc4-ad12-4a2348ab0d1a",
   "metadata": {},
   "source": [
    "## Sklaeran"
   ]
  },
  {
   "cell_type": "code",
   "execution_count": 44,
   "id": "fceb48fe-121a-445e-a75f-214e19b5e8e1",
   "metadata": {},
   "outputs": [
    {
     "data": {
      "text/plain": [
       "2666"
      ]
     },
     "execution_count": 44,
     "metadata": {},
     "output_type": "execute_result"
    }
   ],
   "source": [
    "from sklearn.model_selection import train_test_split\n",
    "train, test = train_test_split(data, test_size = 0.2)\n",
    "len(train)"
   ]
  },
  {
   "cell_type": "code",
   "execution_count": 45,
   "id": "0363ef8d-e79e-4978-ae9a-319a9ca85f06",
   "metadata": {},
   "outputs": [
    {
     "data": {
      "text/plain": [
       "667"
      ]
     },
     "execution_count": 45,
     "metadata": {},
     "output_type": "execute_result"
    }
   ],
   "source": [
    "len(test)"
   ]
  },
  {
   "cell_type": "markdown",
   "id": "10759b9f-5b8a-4eff-9e7a-d4294b2e79ad",
   "metadata": {},
   "source": [
    "### W shuffle function"
   ]
  },
  {
   "cell_type": "code",
   "execution_count": 50,
   "id": "cafc3981-b487-41fa-992a-4f406a73155f",
   "metadata": {},
   "outputs": [],
   "source": [
    "import sklearn\n",
    "data = sklearn.utils.shuffle(data)\n",
    "cutId = int(0.75*len(data))\n",
    "trainData = data[:cutId]\n",
    "cutData = data[cutId+1:]"
   ]
  },
  {
   "cell_type": "code",
   "execution_count": 53,
   "id": "7d38da9f-4721-4317-af3c-1a9af261fe32",
   "metadata": {},
   "outputs": [
    {
     "data": {
      "text/plain": [
       "2499"
      ]
     },
     "execution_count": 53,
     "metadata": {},
     "output_type": "execute_result"
    }
   ],
   "source": [
    "len(trainData)\n"
   ]
  },
  {
   "cell_type": "code",
   "execution_count": 54,
   "id": "92b21fa6-085c-4bd5-a960-78ad0c32dfb6",
   "metadata": {},
   "outputs": [
    {
     "data": {
      "text/plain": [
       "833"
      ]
     },
     "execution_count": 54,
     "metadata": {},
     "output_type": "execute_result"
    }
   ],
   "source": [
    "len(cutData)"
   ]
  },
  {
   "cell_type": "markdown",
   "id": "4cf4338c-60e5-4715-932d-c08d1e157f25",
   "metadata": {},
   "source": [
    "# Kaggle important 2 learn"
   ]
  },
  {
   "cell_type": "code",
   "execution_count": null,
   "id": "666186e0-ed7a-4930-bca3-da212de56db4",
   "metadata": {},
   "outputs": [],
   "source": []
  },
  {
   "cell_type": "code",
   "execution_count": null,
   "id": "9f0792fd-c743-4460-ba57-0778df8ecd08",
   "metadata": {},
   "outputs": [],
   "source": []
  }
 ],
 "metadata": {
  "kernelspec": {
   "display_name": "anaconda-2022.05-py39",
   "language": "python",
   "name": "conda-env-anaconda-2022.05-py39-py"
  },
  "language_info": {
   "codemirror_mode": {
    "name": "ipython",
    "version": 3
   },
   "file_extension": ".py",
   "mimetype": "text/x-python",
   "name": "python",
   "nbconvert_exporter": "python",
   "pygments_lexer": "ipython3",
   "version": "3.9.12"
  }
 },
 "nbformat": 4,
 "nbformat_minor": 5
}
