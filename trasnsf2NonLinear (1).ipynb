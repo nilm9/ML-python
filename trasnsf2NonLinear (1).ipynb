{
 "cells": [
  {
   "cell_type": "code",
   "execution_count": 67,
   "id": "29296422-0aaf-4d73-939d-0ca8deb72300",
   "metadata": {},
   "outputs": [
    {
     "data": {
      "text/html": [
       "<div>\n",
       "<style scoped>\n",
       "    .dataframe tbody tr th:only-of-type {\n",
       "        vertical-align: middle;\n",
       "    }\n",
       "\n",
       "    .dataframe tbody tr th {\n",
       "        vertical-align: top;\n",
       "    }\n",
       "\n",
       "    .dataframe thead th {\n",
       "        text-align: right;\n",
       "    }\n",
       "</style>\n",
       "<table border=\"1\" class=\"dataframe\">\n",
       "  <thead>\n",
       "    <tr style=\"text-align: right;\">\n",
       "      <th></th>\n",
       "      <th>mpg</th>\n",
       "      <th>cylinders</th>\n",
       "      <th>displacement</th>\n",
       "      <th>horsepower</th>\n",
       "      <th>weight</th>\n",
       "      <th>acceleration</th>\n",
       "      <th>model year</th>\n",
       "      <th>origin</th>\n",
       "      <th>car name</th>\n",
       "    </tr>\n",
       "  </thead>\n",
       "  <tbody>\n",
       "    <tr>\n",
       "      <th>0</th>\n",
       "      <td>18.0</td>\n",
       "      <td>8</td>\n",
       "      <td>307.0</td>\n",
       "      <td>130.0</td>\n",
       "      <td>3504</td>\n",
       "      <td>12.0</td>\n",
       "      <td>70</td>\n",
       "      <td>1</td>\n",
       "      <td>chevrolet chevelle malibu</td>\n",
       "    </tr>\n",
       "    <tr>\n",
       "      <th>1</th>\n",
       "      <td>15.0</td>\n",
       "      <td>8</td>\n",
       "      <td>350.0</td>\n",
       "      <td>165.0</td>\n",
       "      <td>3693</td>\n",
       "      <td>11.5</td>\n",
       "      <td>70</td>\n",
       "      <td>1</td>\n",
       "      <td>buick skylark 320</td>\n",
       "    </tr>\n",
       "    <tr>\n",
       "      <th>2</th>\n",
       "      <td>18.0</td>\n",
       "      <td>8</td>\n",
       "      <td>318.0</td>\n",
       "      <td>150.0</td>\n",
       "      <td>3436</td>\n",
       "      <td>11.0</td>\n",
       "      <td>70</td>\n",
       "      <td>1</td>\n",
       "      <td>plymouth satellite</td>\n",
       "    </tr>\n",
       "    <tr>\n",
       "      <th>3</th>\n",
       "      <td>16.0</td>\n",
       "      <td>8</td>\n",
       "      <td>304.0</td>\n",
       "      <td>150.0</td>\n",
       "      <td>3433</td>\n",
       "      <td>12.0</td>\n",
       "      <td>70</td>\n",
       "      <td>1</td>\n",
       "      <td>amc rebel sst</td>\n",
       "    </tr>\n",
       "    <tr>\n",
       "      <th>4</th>\n",
       "      <td>17.0</td>\n",
       "      <td>8</td>\n",
       "      <td>302.0</td>\n",
       "      <td>140.0</td>\n",
       "      <td>3449</td>\n",
       "      <td>10.5</td>\n",
       "      <td>70</td>\n",
       "      <td>1</td>\n",
       "      <td>ford torino</td>\n",
       "    </tr>\n",
       "  </tbody>\n",
       "</table>\n",
       "</div>"
      ],
      "text/plain": [
       "    mpg  cylinders  displacement  horsepower  weight  acceleration  \\\n",
       "0  18.0          8         307.0       130.0    3504          12.0   \n",
       "1  15.0          8         350.0       165.0    3693          11.5   \n",
       "2  18.0          8         318.0       150.0    3436          11.0   \n",
       "3  16.0          8         304.0       150.0    3433          12.0   \n",
       "4  17.0          8         302.0       140.0    3449          10.5   \n",
       "\n",
       "   model year  origin                   car name  \n",
       "0          70       1  chevrolet chevelle malibu  \n",
       "1          70       1          buick skylark 320  \n",
       "2          70       1         plymouth satellite  \n",
       "3          70       1              amc rebel sst  \n",
       "4          70       1                ford torino  "
      ]
     },
     "execution_count": 67,
     "metadata": {},
     "output_type": "execute_result"
    }
   ],
   "source": [
    "import pandas as pd \n",
    "import numpy as np\n",
    "data = pd.read_csv(\"https://raw.githubusercontent.com/joanby/python-ml-course/master/datasets/auto/auto-mpg.csv\")\n",
    "data.head()"
   ]
  },
  {
   "cell_type": "code",
   "execution_count": 68,
   "id": "21faf733-000b-4b4c-a9a5-a539c863ac9f",
   "metadata": {},
   "outputs": [
    {
     "data": {
      "text/plain": [
       "(406, 9)"
      ]
     },
     "execution_count": 68,
     "metadata": {},
     "output_type": "execute_result"
    }
   ],
   "source": [
    "data_auto.shape"
   ]
  },
  {
   "cell_type": "code",
   "execution_count": 69,
   "id": "c7a23fb9-c25c-4d12-8d1f-d4801f7ce810",
   "metadata": {},
   "outputs": [],
   "source": [
    "import matplotlib.pyplot as plt\n",
    "%matplotlib inline"
   ]
  },
  {
   "cell_type": "code",
   "execution_count": 70,
   "id": "b818cc80-a561-4228-bf4a-1bd2a47591a0",
   "metadata": {},
   "outputs": [],
   "source": [
    "data[\"mpg\"] = data[\"mpg\"].dropna() #remove missing or null values from the \"mpg\" "
   ]
  },
  {
   "cell_type": "code",
   "execution_count": 71,
   "id": "48d0b400-683c-444e-8ab8-0f8e4e2e2242",
   "metadata": {},
   "outputs": [
    {
     "data": {
      "text/plain": [
       "Text(0, 0.5, 'MGP')"
      ]
     },
     "execution_count": 71,
     "metadata": {},
     "output_type": "execute_result"
    },
    {
     "data": {
      "image/png": "[encoded data removed]",
      "text/plain": [
       "<Figure size 432x288 with 1 Axes>"
      ]
     },
     "metadata": {
      "needs_background": "light"
     },
     "output_type": "display_data"
    }
   ],
   "source": [
    "data[\"horsepower\"] = data[\"horsepower\"].dropna()\n",
    "plt.plot(data[\"horsepower\"], data[\"mpg\"], \"ro\")\n",
    "plt.xlabel(\"HP\")\n",
    "plt.ylabel(\"MGP\")"
   ]
  },
  {
   "cell_type": "markdown",
   "id": "ca3bf778-2949-4e28-ade7-8fbd367d3d2d",
   "metadata": {},
   "source": [
    "## LR Model"
   ]
  },
  {
   "cell_type": "code",
   "execution_count": 72,
   "id": "542673e9-0b1c-4e13-9650-296c23fc572f",
   "metadata": {},
   "outputs": [],
   "source": [
    "from sklearn.linear_model import LinearRegression\n",
    "\n",
    "#mpg= a+b*HP\n",
    "x = data[\"horsepower\"].fillna(data[\"horsepower\"].mean())\n",
    "y = data[\"mpg\"].fillna(data[\"mpg\"].mean())\n"
   ]
  },
  {
   "cell_type": "code",
   "execution_count": 73,
   "id": "1adca593-f24f-47d6-a047-edae7b002790",
   "metadata": {},
   "outputs": [],
   "source": [
    "Xdata = np.array(x)[:, np.newaxis]"
   ]
  },
  {
   "cell_type": "code",
   "execution_count": 74,
   "id": "3e9cc7d0-33d9-4ae0-a62d-347216120113",
   "metadata": {},
   "outputs": [
    {
     "data": {
      "text/plain": [
       "LinearRegression()"
      ]
     },
     "execution_count": 74,
     "metadata": {},
     "output_type": "execute_result"
    }
   ],
   "source": [
    "lm = LinearRegression() # capital L\n",
    "lm.fit(Xdata, y)"
   ]
  },
  {
   "cell_type": "code",
   "execution_count": 75,
   "id": "cafc7248-6ce0-4f54-884f-85c32346fef9",
   "metadata": {},
   "outputs": [
    {
     "data": {
      "text/plain": [
       "[<matplotlib.lines.Line2D at 0x7f56373aad60>]"
      ]
     },
     "execution_count": 75,
     "metadata": {},
     "output_type": "execute_result"
    },
    {
     "data": {
      "image/png": "[encoded data removed]",
      "text/plain": [
       "<Figure size 432x288 with 1 Axes>"
      ]
     },
     "metadata": {
      "needs_background": "light"
     },
     "output_type": "display_data"
    }
   ],
   "source": [
    "%matplotlib inline\n",
    "plt.plot(x, y, \"ro\")\n",
    "plt.xlabel(\"HP\")\n",
    "plt.ylabel(\"MGP\")\n",
    "plt.plot(x, lm.predict(Xdata), color=\"blue\")                                                                                                                                                                                                                                                                                                                                                                                                                                                                                                                                                                                                                 "
   ]
  },
  {
   "cell_type": "code",
   "execution_count": 76,
   "id": "65931114-ef62-4944-84d9-65718a59bc8d",
   "metadata": {},
   "outputs": [
    {
     "data": {
      "text/plain": [
       "0.574653340645025"
      ]
     },
     "execution_count": 76,
     "metadata": {},
     "output_type": "execute_result"
    }
   ],
   "source": [
    "lm.score(Xdata, y)"
   ]
  },
  {
   "cell_type": "code",
   "execution_count": 77,
   "id": "84fff679-2cd9-4982-89f7-2f99e017a8f7",
   "metadata": {},
   "outputs": [
    {
     "data": {
      "text/plain": [
       "(10315.75196006092, 4.940471238582748, 23.51457286432162, 21.010252948625173)"
      ]
     },
     "execution_count": 77,
     "metadata": {},
     "output_type": "execute_result"
    }
   ],
   "source": [
    "SSD=np.sum((y-lm.predict(Xdata))**2) \n",
    "#SSD is a measure of how well the linear regression model fits the data. \n",
    "#Here, y represents the actual values of the dependent variable, and lm.predict(Xdata) \n",
    "#represents the predicted values of the dependent variable obtained from the linear regression model.\n",
    "RSE=np.sqrt(SSD/len(Xdata)-1)\n",
    "# measure of how much the actual values deviate from the predicted values, on average. \n",
    "#Here, len(Xdata)-1 represents the degrees of freedom, which is the number of observations \n",
    "#minus the number of parameters estimated by the model.\n",
    "y_mean=np.mean(y)\n",
    "error=RSE/y_mean\n",
    "SSD, RSE, y_mean, error*100\n",
    "#SSD- desv. tipica\n",
    "#23 miles x 1 gallon up n down 5"
   ]
  },
  {
   "cell_type": "markdown",
   "id": "8e402aaa-d576-4a24-8f1e-dc455beed014",
   "metadata": {},
   "source": [
    "#### Other way to check the score\n",
    "## QUADRATIC REGRESSION MODEL"
   ]
  },
  {
   "cell_type": "code",
   "execution_count": 78,
   "id": "061fa293-0631-48c1-8e29-6733aa1e9d31",
   "metadata": {},
   "outputs": [
    {
     "data": {
      "text/plain": [
       "LinearRegression()"
      ]
     },
     "execution_count": 78,
     "metadata": {},
     "output_type": "execute_result"
    }
   ],
   "source": [
    "Xdata = x**2\n",
    "Xdata = np.array(Xdata)[:, np.newaxis]\n",
    "lm = LinearRegression()\n",
    "lm.fit(Xdata, y)"
   ]
  },
  {
   "cell_type": "code",
   "execution_count": 79,
   "id": "c529c556-ffd6-4399-ae31-c3a9e23160ab",
   "metadata": {},
   "outputs": [
    {
     "data": {
      "text/plain": [
       "0.4849887034823205"
      ]
     },
     "execution_count": 79,
     "metadata": {},
     "output_type": "execute_result"
    }
   ],
   "source": [
    "lm.score(Xdata, y)"
   ]
  },
  {
   "cell_type": "code",
   "execution_count": 80,
   "id": "e0f6055d-b8cd-4652-a032-84cab4c0e5bd",
   "metadata": {},
   "outputs": [
    {
     "data": {
      "text/plain": [
       "(12490.350340501926, 5.455676832957554, 23.51457286432162, 23.20125848951901)"
      ]
     },
     "execution_count": 80,
     "metadata": {},
     "output_type": "execute_result"
    }
   ],
   "source": [
    "SSD=np.sum((y-lm.predict(Xdata))**2) \n",
    "\n",
    "RSE=np.sqrt(SSD/len(Xdata)-1)\n",
    "\n",
    "y_mean=np.mean(y)\n",
    "error=RSE/y_mean\n",
    "SSD, RSE, y_mean, error*100\n",
    "#SSD- desv. tipica\n",
    "#23 miles x 1 gallon up n down 5"
   ]
  },
  {
   "cell_type": "markdown",
   "id": "0ce2ca7a-7574-4816-a774-3f4d25f078a3",
   "metadata": {},
   "source": [
    "### Looking for other ways to make the model better"
   ]
  },
  {
   "cell_type": "code",
   "execution_count": 82,
   "id": "4f581b5f-6f78-4ecc-9e0e-20812d078bae",
   "metadata": {},
   "outputs": [],
   "source": [
    "from sklearn.preprocessing import PolynomialFeatures\n",
    "from sklearn import linear_model"
   ]
  },
  {
   "cell_type": "code",
   "execution_count": 108,
   "id": "46af05e7-7f09-44c2-823a-5232847aa7e7",
   "metadata": {},
   "outputs": [
    {
     "data": {
      "text/plain": [
       "0.6439066584257469"
      ]
     },
     "execution_count": 108,
     "metadata": {},
     "output_type": "execute_result"
    }
   ],
   "source": [
    "poly = PolynomialFeatures(degree=2)\n",
    "#flatten the input array and reshape it to a 2D array\n",
    "Xdata = poly.fit_transform(x.ravel()[:, np.newaxis])\n",
    "lm = LinearRegression()\n",
    "lm.fit(Xdata, y)\n",
    "lm.score(Xdata, y)"
   ]
  },
  {
   "cell_type": "code",
   "execution_count": 109,
   "id": "2248c205-3924-41e1-981e-665112e9830c",
   "metadata": {},
   "outputs": [
    {
     "data": {
      "text/plain": [
       "(8636.180643524502, 4.61778115803654, 23.51457286432162, 19.63795466190689)"
      ]
     },
     "execution_count": 109,
     "metadata": {},
     "output_type": "execute_result"
    }
   ],
   "source": [
    "\n",
    "\n",
    "SSD = np.sum((y - lm.predict(Xdata)) ** 2)\n",
    "RSE = np.sqrt(SSD / (len(Xdata) - 1))\n",
    "y_mean = np.mean(y)\n",
    "error = RSE / y_mean\n",
    "SSD, RSE, y_mean, error * 100\n"
   ]
  },
  {
   "cell_type": "markdown",
   "id": "28537a82-75d4-4ee6-829d-187cacd5c9b9",
   "metadata": {},
   "source": [
    "## Outliers"
   ]
  },
  {
   "cell_type": "code",
   "execution_count": 113,
   "id": "de21eb33-8fc4-4214-80a0-fb783476e107",
   "metadata": {},
   "outputs": [
    {
     "data": {
      "text/plain": [
       "[<matplotlib.lines.Line2D at 0x7f5636c1fa30>]"
      ]
     },
     "execution_count": 113,
     "metadata": {},
     "output_type": "execute_result"
    },
    {
     "data": {
      "image/png": "[encoded data removed]",
      "text/plain": [
       "<Figure size 432x288 with 1 Axes>"
      ]
     },
     "metadata": {
      "needs_background": "light"
     },
     "output_type": "display_data"
    }
   ],
   "source": [
    "plt.plot(data[\"displacement\"], data[\"mpg\"],\"ro\")"
   ]
  },
  {
   "cell_type": "code",
   "execution_count": 147,
   "id": "528d190a-9f79-4689-bb06-c56d4cf5df44",
   "metadata": {},
   "outputs": [
    {
     "data": {
      "text/plain": [
       "LinearRegression()"
      ]
     },
     "execution_count": 147,
     "metadata": {},
     "output_type": "execute_result"
    }
   ],
   "source": [
    "x=data[\"displacement\"].fillna(data[\"displacement\"].mean())\n",
    "Xdata = poly.fit_transform(x.ravel()[:, np.newaxis])\n",
    "x= x.ravel()[:, np.newaxis]\n",
    "y = data[\"mpg\"].fillna(data[\"mpg\"].mean())\n",
    "lm = LinearRegression()\n",
    "lm.fit(x,y)"
   ]
  },
  {
   "cell_type": "code",
   "execution_count": 148,
   "id": "07c811dd-fb20-402c-a085-5edda7eb4f30",
   "metadata": {},
   "outputs": [
    {
     "data": {
      "text/plain": [
       "0.6261049762826918"
      ]
     },
     "execution_count": 148,
     "metadata": {},
     "output_type": "execute_result"
    }
   ],
   "source": [
    "lm.score(x,y)"
   ]
  },
  {
   "cell_type": "code",
   "execution_count": 149,
   "id": "578360a8-0ab6-485d-a314-64618e57c082",
   "metadata": {},
   "outputs": [],
   "source": [
    "data[(data[\"displacement\"]>300)&(data[\"mpg\"]>20)]\n",
    "data = data.drop([372,305,258,395])"
   ]
  },
  {
   "cell_type": "code",
   "execution_count": 150,
   "id": "16582125-6871-44fa-b990-1dafbc8123b5",
   "metadata": {},
   "outputs": [
    {
     "data": {
      "text/plain": [
       "[<matplotlib.lines.Line2D at 0x7f563555e370>]"
      ]
     },
     "execution_count": 150,
     "metadata": {},
     "output_type": "execute_result"
    },
    {
     "data": {
      "image/png": "[encoded data removed]",
      "text/plain": [
       "<Figure size 432x288 with 1 Axes>"
      ]
     },
     "metadata": {
      "needs_background": "light"
     },
     "output_type": "display_data"
    }
   ],
   "source": [
    "plt.plot(data[\"displacement\"], data[\"mpg\"],\"ro\")"
   ]
  },
  {
   "cell_type": "code",
   "execution_count": 151,
   "id": "c0ef729b-3a65-4aad-a06f-c084ef6cad7e",
   "metadata": {},
   "outputs": [
    {
     "data": {
      "text/plain": [
       "LinearRegression()"
      ]
     },
     "execution_count": 151,
     "metadata": {},
     "output_type": "execute_result"
    }
   ],
   "source": [
    "x=data[\"displacement\"].fillna(data[\"displacement\"].mean())\n",
    "Xdata = poly.fit_transform(x.ravel()[:, np.newaxis])\n",
    "x= x.ravel()[:, np.newaxis]\n",
    "y = data[\"mpg\"].fillna(data[\"mpg\"].mean())\n",
    "lm = LinearRegression()\n",
    "lm.fit(x,y)"
   ]
  },
  {
   "cell_type": "code",
   "execution_count": 152,
   "id": "3ab9aba9-7d69-4c1c-9eca-f3d232734398",
   "metadata": {},
   "outputs": [
    {
     "data": {
      "text/plain": [
       "0.6466514317531822"
      ]
     },
     "execution_count": 152,
     "metadata": {},
     "output_type": "execute_result"
    }
   ],
   "source": [
    "lm.score(x,y) #As we see,  it has improved"
   ]
  },
  {
   "cell_type": "code",
   "execution_count": null,
   "id": "fd4ac9fc-7668-4417-a7ef-c87028ec31c9",
   "metadata": {},
   "outputs": [],
   "source": []
  },
  {
   "cell_type": "code",
   "execution_count": null,
   "id": "c32be7f9-6ce7-431a-aba3-958342823418",
   "metadata": {},
   "outputs": [],
   "source": []
  },
  {
   "cell_type": "code",
   "execution_count": null,
   "id": "90d1fcdf-4cff-467b-a3d4-20a2a4f17c01",
   "metadata": {},
   "outputs": [],
   "source": []
  },
  {
   "cell_type": "code",
   "execution_count": null,
   "id": "01302377-7b9a-481c-aa3a-d7f098374d52",
   "metadata": {},
   "outputs": [],
   "source": []
  },
  {
   "cell_type": "code",
   "execution_count": null,
   "id": "a12fcc3a-6127-42ac-a691-350238e594ac",
   "metadata": {},
   "outputs": [],
   "source": []
  },
  {
   "cell_type": "code",
   "execution_count": null,
   "id": "f66cae4b-c21f-4435-b918-bbace67fa3da",
   "metadata": {},
   "outputs": [],
   "source": []
  }
 ],
 "metadata": {
  "kernelspec": {
   "display_name": "anaconda-2022.05-py39",
   "language": "python",
   "name": "conda-env-anaconda-2022.05-py39-py"
  },
  "language_info": {
   "codemirror_mode": {
    "name": "ipython",
    "version": 3
   },
   "file_extension": ".py",
   "mimetype": "text/x-python",
   "name": "python",
   "nbconvert_exporter": "python",
   "pygments_lexer": "ipython3",
   "version": "3.9.12"
  }
 },
 "nbformat": 4,
 "nbformat_minor": 5
}
