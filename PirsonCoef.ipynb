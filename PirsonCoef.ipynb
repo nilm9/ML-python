{
 "cells": [
  {
   "cell_type": "code",
   "execution_count": 3,
   "id": "ddb5df1f-e1be-4dc5-a6dd-e3868a0b9856",
   "metadata": {},
   "outputs": [],
   "source": [
    "import pandas as pd\n",
    "dataAds = pd.read_csv(\"https://raw.githubusercontent.com/joanby/python-ml-course/master/datasets/ads/Advertising.csv\")"
   ]
  },
  {
   "cell_type": "code",
   "execution_count": 4,
   "id": "d77cc7ff-b928-42a6-9d6c-ea6e6d223ebe",
   "metadata": {},
   "outputs": [
    {
     "data": {
      "text/html": [
       "<div>\n",
       "<style scoped>\n",
       "    .dataframe tbody tr th:only-of-type {\n",
       "        vertical-align: middle;\n",
       "    }\n",
       "\n",
       "    .dataframe tbody tr th {\n",
       "        vertical-align: top;\n",
       "    }\n",
       "\n",
       "    .dataframe thead th {\n",
       "        text-align: right;\n",
       "    }\n",
       "</style>\n",
       "<table border=\"1\" class=\"dataframe\">\n",
       "  <thead>\n",
       "    <tr style=\"text-align: right;\">\n",
       "      <th></th>\n",
       "      <th>TV</th>\n",
       "      <th>Radio</th>\n",
       "      <th>Newspaper</th>\n",
       "      <th>Sales</th>\n",
       "    </tr>\n",
       "  </thead>\n",
       "  <tbody>\n",
       "    <tr>\n",
       "      <th>0</th>\n",
       "      <td>230.1</td>\n",
       "      <td>37.8</td>\n",
       "      <td>69.2</td>\n",
       "      <td>22.1</td>\n",
       "    </tr>\n",
       "    <tr>\n",
       "      <th>1</th>\n",
       "      <td>44.5</td>\n",
       "      <td>39.3</td>\n",
       "      <td>45.1</td>\n",
       "      <td>10.4</td>\n",
       "    </tr>\n",
       "    <tr>\n",
       "      <th>2</th>\n",
       "      <td>17.2</td>\n",
       "      <td>45.9</td>\n",
       "      <td>69.3</td>\n",
       "      <td>9.3</td>\n",
       "    </tr>\n",
       "    <tr>\n",
       "      <th>3</th>\n",
       "      <td>151.5</td>\n",
       "      <td>41.3</td>\n",
       "      <td>58.5</td>\n",
       "      <td>18.5</td>\n",
       "    </tr>\n",
       "    <tr>\n",
       "      <th>4</th>\n",
       "      <td>180.8</td>\n",
       "      <td>10.8</td>\n",
       "      <td>58.4</td>\n",
       "      <td>12.9</td>\n",
       "    </tr>\n",
       "  </tbody>\n",
       "</table>\n",
       "</div>"
      ],
      "text/plain": [
       "      TV  Radio  Newspaper  Sales\n",
       "0  230.1   37.8       69.2   22.1\n",
       "1   44.5   39.3       45.1   10.4\n",
       "2   17.2   45.9       69.3    9.3\n",
       "3  151.5   41.3       58.5   18.5\n",
       "4  180.8   10.8       58.4   12.9"
      ]
     },
     "execution_count": 4,
     "metadata": {},
     "output_type": "execute_result"
    }
   ],
   "source": [
    "dataAds.head()"
   ]
  },
  {
   "cell_type": "code",
   "execution_count": 8,
   "id": "176c34d7-5073-49a3-b641-b913838bd6bb",
   "metadata": {},
   "outputs": [],
   "source": [
    "import numpy as np\n",
    "dataAds[\"corr1\"] = (dataAds[\"TV\"]-np.mean(dataAds[\"TV\"])) * (dataAds[\"Sales\"]-np.mean(dataAds[\"Sales\"]))"
   ]
  },
  {
   "cell_type": "code",
   "execution_count": null,
   "id": "3e1ff67e-80d8-4c12-8651-e82f90b07b4d",
   "metadata": {},
   "outputs": [],
   "source": [
    "dataAds[\"corr2\"] = (dataAds[\"TV\"]-np.mean(dataAds[\"TV\"]))**2"
   ]
  },
  {
   "cell_type": "code",
   "execution_count": 13,
   "id": "3674e4ab-cb28-4f6c-a4b1-7eedbf37bbfa",
   "metadata": {},
   "outputs": [],
   "source": [
    "dataAds[\"corr3\"] = (dataAds[\"Sales\"]-np.mean(dataAds[\"Sales\"]))**2"
   ]
  },
  {
   "cell_type": "code",
   "execution_count": 14,
   "id": "39622b26-2def-44bb-afb8-9d85e8ca1242",
   "metadata": {},
   "outputs": [
    {
     "data": {
      "text/html": [
       "<div>\n",
       "<style scoped>\n",
       "    .dataframe tbody tr th:only-of-type {\n",
       "        vertical-align: middle;\n",
       "    }\n",
       "\n",
       "    .dataframe tbody tr th {\n",
       "        vertical-align: top;\n",
       "    }\n",
       "\n",
       "    .dataframe thead th {\n",
       "        text-align: right;\n",
       "    }\n",
       "</style>\n",
       "<table border=\"1\" class=\"dataframe\">\n",
       "  <thead>\n",
       "    <tr style=\"text-align: right;\">\n",
       "      <th></th>\n",
       "      <th>TV</th>\n",
       "      <th>Radio</th>\n",
       "      <th>Newspaper</th>\n",
       "      <th>Sales</th>\n",
       "      <th>corr1</th>\n",
       "      <th>corr2</th>\n",
       "      <th>corr3</th>\n",
       "    </tr>\n",
       "  </thead>\n",
       "  <tbody>\n",
       "    <tr>\n",
       "      <th>0</th>\n",
       "      <td>230.1</td>\n",
       "      <td>37.8</td>\n",
       "      <td>69.2</td>\n",
       "      <td>22.1</td>\n",
       "      <td>670.896956</td>\n",
       "      <td>6898.548306</td>\n",
       "      <td>65.246006</td>\n",
       "    </tr>\n",
       "    <tr>\n",
       "      <th>1</th>\n",
       "      <td>44.5</td>\n",
       "      <td>39.3</td>\n",
       "      <td>45.1</td>\n",
       "      <td>10.4</td>\n",
       "      <td>371.460206</td>\n",
       "      <td>10514.964306</td>\n",
       "      <td>13.122506</td>\n",
       "    </tr>\n",
       "    <tr>\n",
       "      <th>2</th>\n",
       "      <td>17.2</td>\n",
       "      <td>45.9</td>\n",
       "      <td>69.3</td>\n",
       "      <td>9.3</td>\n",
       "      <td>613.181206</td>\n",
       "      <td>16859.074806</td>\n",
       "      <td>22.302006</td>\n",
       "    </tr>\n",
       "    <tr>\n",
       "      <th>3</th>\n",
       "      <td>151.5</td>\n",
       "      <td>41.3</td>\n",
       "      <td>58.5</td>\n",
       "      <td>18.5</td>\n",
       "      <td>19.958456</td>\n",
       "      <td>19.869306</td>\n",
       "      <td>20.048006</td>\n",
       "    </tr>\n",
       "    <tr>\n",
       "      <th>4</th>\n",
       "      <td>180.8</td>\n",
       "      <td>10.8</td>\n",
       "      <td>58.4</td>\n",
       "      <td>12.9</td>\n",
       "      <td>-37.892794</td>\n",
       "      <td>1139.568806</td>\n",
       "      <td>1.260006</td>\n",
       "    </tr>\n",
       "  </tbody>\n",
       "</table>\n",
       "</div>"
      ],
      "text/plain": [
       "      TV  Radio  Newspaper  Sales       corr1         corr2      corr3\n",
       "0  230.1   37.8       69.2   22.1  670.896956   6898.548306  65.246006\n",
       "1   44.5   39.3       45.1   10.4  371.460206  10514.964306  13.122506\n",
       "2   17.2   45.9       69.3    9.3  613.181206  16859.074806  22.302006\n",
       "3  151.5   41.3       58.5   18.5   19.958456     19.869306  20.048006\n",
       "4  180.8   10.8       58.4   12.9  -37.892794   1139.568806   1.260006"
      ]
     },
     "execution_count": 14,
     "metadata": {},
     "output_type": "execute_result"
    }
   ],
   "source": [
    "dataAds.head()"
   ]
  },
  {
   "cell_type": "code",
   "execution_count": 15,
   "id": "5a05af8e-6036-406a-93db-22440b474d8e",
   "metadata": {},
   "outputs": [],
   "source": [
    "corrPirson = sum(dataAds[\"corr1\"]) / np.sqrt(sum(dataAds[\"corr2\"]) * sum(dataAds[\"corr3\"]))"
   ]
  },
  {
   "cell_type": "code",
   "execution_count": 16,
   "id": "224c1ed0-8ba4-48f9-97fb-3d6cb1eef117",
   "metadata": {},
   "outputs": [
    {
     "data": {
      "text/plain": [
       "0.782224424861606"
      ]
     },
     "execution_count": 16,
     "metadata": {},
     "output_type": "execute_result"
    }
   ],
   "source": [
    "corrPirson\n"
   ]
  },
  {
   "cell_type": "code",
   "execution_count": 23,
   "id": "f1068cc6-0e10-47ea-897f-59d4ee76b976",
   "metadata": {},
   "outputs": [],
   "source": [
    "def corrCoef(df, v1, v2):\n",
    "    df[\"corr1\"] = (df[v1]-np.mean(df[v1])) * (df[\"Sales\"]-np.mean(df[\"Sales\"]))    \n",
    "    df[\"corr2\"] = (df[v1]-np.mean(df[v1]))**2 \n",
    "    df[\"corr3\"] = (df[v2]-np.mean(df[v2]))**2\n",
    "    corrPirson = sum(df[\"corr1\"]) / np.sqrt(sum(df[\"corr2\"]) * sum(df[\"corr3\"]))\n",
    "    return (corrPirson)"
   ]
  },
  {
   "cell_type": "code",
   "execution_count": 24,
   "id": "4d42932f-da21-4b3b-8178-343754b86e7b",
   "metadata": {},
   "outputs": [],
   "source": []
  },
  {
   "cell_type": "code",
   "execution_count": 26,
   "id": "3477f927-2d6b-46d4-9735-f56cf0aa13b1",
   "metadata": {},
   "outputs": [],
   "source": [
    "cols = dataAds.columns.values"
   ]
  },
  {
   "cell_type": "code",
   "execution_count": 28,
   "id": "8bf49cf6-268d-4cf5-aed9-ecd9f222a590",
   "metadata": {},
   "outputs": [
    {
     "name": "stdout",
     "output_type": "stream",
     "text": [
      "TV, TV: 0.04753664043301969\n",
      "TV, Radio: 0.2748888271497582\n",
      "TV, Newspaper: 0.18739579478486862\n",
      "TV, Sales: 0.782224424861606\n",
      "TV, corr1: 0.009228747634105167\n",
      "TV, corr2: 0.0006308932218630238\n",
      "TV, corr3: 8.779172188491027e-08\n",
      "Radio, TV: 0.03501768094446727\n",
      "Radio, Radio: 0.20249578339243968\n",
      "Radio, Newspaper: 0.13804438202480146\n",
      "Radio, Sales: 0.5762225745710553\n",
      "Radio, corr1: 0.03818095381350961\n",
      "Radio, corr2: 0.015883677082042275\n",
      "Radio, corr3: 7.234641180959596e-05\n",
      "Newspaper, TV: 0.013873983454265468\n",
      "Newspaper, Radio: 0.08022870368830397\n",
      "Newspaper, Newspaper: 0.054693098472273306\n",
      "Newspaper, Sales: 0.22829902637616525\n",
      "Newspaper, corr1: 0.009684003790211018\n",
      "Newspaper, corr2: 0.0015603052897250422\n",
      "Newspaper, corr3: 3.5264622215151464e-07\n",
      "Sales, TV: 0.06077110215706962\n",
      "Sales, Radio: 0.3514193860648017\n",
      "Sales, Newspaper: 0.23956781305828356\n",
      "Sales, Sales: 1.0\n",
      "Sales, corr1: 0.15327877926219324\n",
      "Sales, corr2: 0.15327877926219324\n",
      "Sales, corr3: 0.0019478689720089481\n",
      "corr1, TV: 0.0020879878806837194\n",
      "corr1, Radio: 0.02310455230045118\n",
      "corr1, Newspaper: 0.005747988832663588\n",
      "corr1, Sales: 0.04459050062687617\n",
      "corr1, corr1: 1.8477216882234885e-08\n",
      "corr1, corr2: 6.421119555083815e-18\n",
      "corr1, corr3: 9.608452168970128e-36\n",
      "corr2, TV: 0.008076971646501285\n",
      "corr2, Radio: 0.04504655526454739\n",
      "corr2, Newspaper: 0.03834911083817413\n",
      "corr2, Sales: 0.0\n",
      "corr2, corr1: nan\n",
      "corr2, corr2: nan\n",
      "corr2, corr3: nan\n",
      "corr3, TV: nan\n",
      "corr3, Radio: -0.051308306357792335\n",
      "corr3, Newspaper: 0.019220094603967182\n",
      "corr3, Sales: 0.128114785326295\n",
      "corr3, corr1: 0.00526638849889977\n",
      "corr3, corr2: 1.5313037422334093e-12\n",
      "corr3, corr3: 8.625121867794934e-26\n"
     ]
    }
   ],
   "source": [
    "for x in cols:\n",
    "    for y in cols:\n",
    "        print(x + \", \"+ y + \": \" + str(corrCoef(dataAds,x,y)))"
   ]
  },
  {
   "cell_type": "code",
   "execution_count": 31,
   "id": "4fab6460-c599-4f22-85b9-926a7d08e7bd",
   "metadata": {},
   "outputs": [
    {
     "data": {
      "text/plain": [
       "Text(0.5, 1.0, 'TV vs Sales from the product')"
      ]
     },
     "execution_count": 31,
     "metadata": {},
     "output_type": "execute_result"
    },
    {
     "data": {
      "image/png": "[encoded data removed]",
      "text/plain": [
       "<Figure size 432x288 with 1 Axes>"
      ]
     },
     "metadata": {
      "needs_background": "light"
     },
     "output_type": "display_data"
    }
   ],
   "source": [
    "import matplotlib.pyplot as plt\n",
    "plt.plot(dataAds[\"TV\"], dataAds[\"Sales\"], \"ro\")\n",
    "plt.title(\"TV vs Sales from the product\")"
   ]
  },
  {
   "cell_type": "code",
   "execution_count": 32,
   "id": "c1ce0505-1449-454d-967d-7a3d2c652088",
   "metadata": {},
   "outputs": [
    {
     "data": {
      "text/html": [
       "<div>\n",
       "<style scoped>\n",
       "    .dataframe tbody tr th:only-of-type {\n",
       "        vertical-align: middle;\n",
       "    }\n",
       "\n",
       "    .dataframe tbody tr th {\n",
       "        vertical-align: top;\n",
       "    }\n",
       "\n",
       "    .dataframe thead th {\n",
       "        text-align: right;\n",
       "    }\n",
       "</style>\n",
       "<table border=\"1\" class=\"dataframe\">\n",
       "  <thead>\n",
       "    <tr style=\"text-align: right;\">\n",
       "      <th></th>\n",
       "      <th>TV</th>\n",
       "      <th>Radio</th>\n",
       "      <th>Newspaper</th>\n",
       "      <th>Sales</th>\n",
       "      <th>corr1</th>\n",
       "      <th>corr2</th>\n",
       "      <th>corr3</th>\n",
       "    </tr>\n",
       "  </thead>\n",
       "  <tbody>\n",
       "    <tr>\n",
       "      <th>TV</th>\n",
       "      <td>1.000000</td>\n",
       "      <td>0.054809</td>\n",
       "      <td>0.056648</td>\n",
       "      <td>0.782224</td>\n",
       "      <td>0.135238</td>\n",
       "      <td>0.077558</td>\n",
       "      <td>0.077558</td>\n",
       "    </tr>\n",
       "    <tr>\n",
       "      <th>Radio</th>\n",
       "      <td>0.054809</td>\n",
       "      <td>1.000000</td>\n",
       "      <td>0.354104</td>\n",
       "      <td>0.576223</td>\n",
       "      <td>0.068532</td>\n",
       "      <td>0.139773</td>\n",
       "      <td>0.139773</td>\n",
       "    </tr>\n",
       "    <tr>\n",
       "      <th>Newspaper</th>\n",
       "      <td>0.056648</td>\n",
       "      <td>0.354104</td>\n",
       "      <td>1.000000</td>\n",
       "      <td>0.228299</td>\n",
       "      <td>0.073069</td>\n",
       "      <td>0.021055</td>\n",
       "      <td>0.021055</td>\n",
       "    </tr>\n",
       "    <tr>\n",
       "      <th>Sales</th>\n",
       "      <td>0.782224</td>\n",
       "      <td>0.576223</td>\n",
       "      <td>0.228299</td>\n",
       "      <td>1.000000</td>\n",
       "      <td>0.217918</td>\n",
       "      <td>0.134265</td>\n",
       "      <td>0.134265</td>\n",
       "    </tr>\n",
       "    <tr>\n",
       "      <th>corr1</th>\n",
       "      <td>0.135238</td>\n",
       "      <td>0.068532</td>\n",
       "      <td>0.073069</td>\n",
       "      <td>0.217918</td>\n",
       "      <td>1.000000</td>\n",
       "      <td>0.769609</td>\n",
       "      <td>0.769609</td>\n",
       "    </tr>\n",
       "    <tr>\n",
       "      <th>corr2</th>\n",
       "      <td>0.077558</td>\n",
       "      <td>0.139773</td>\n",
       "      <td>0.021055</td>\n",
       "      <td>0.134265</td>\n",
       "      <td>0.769609</td>\n",
       "      <td>1.000000</td>\n",
       "      <td>1.000000</td>\n",
       "    </tr>\n",
       "    <tr>\n",
       "      <th>corr3</th>\n",
       "      <td>0.077558</td>\n",
       "      <td>0.139773</td>\n",
       "      <td>0.021055</td>\n",
       "      <td>0.134265</td>\n",
       "      <td>0.769609</td>\n",
       "      <td>1.000000</td>\n",
       "      <td>1.000000</td>\n",
       "    </tr>\n",
       "  </tbody>\n",
       "</table>\n",
       "</div>"
      ],
      "text/plain": [
       "                 TV     Radio  Newspaper     Sales     corr1     corr2  \\\n",
       "TV         1.000000  0.054809   0.056648  0.782224  0.135238  0.077558   \n",
       "Radio      0.054809  1.000000   0.354104  0.576223  0.068532  0.139773   \n",
       "Newspaper  0.056648  0.354104   1.000000  0.228299  0.073069  0.021055   \n",
       "Sales      0.782224  0.576223   0.228299  1.000000  0.217918  0.134265   \n",
       "corr1      0.135238  0.068532   0.073069  0.217918  1.000000  0.769609   \n",
       "corr2      0.077558  0.139773   0.021055  0.134265  0.769609  1.000000   \n",
       "corr3      0.077558  0.139773   0.021055  0.134265  0.769609  1.000000   \n",
       "\n",
       "              corr3  \n",
       "TV         0.077558  \n",
       "Radio      0.139773  \n",
       "Newspaper  0.021055  \n",
       "Sales      0.134265  \n",
       "corr1      0.769609  \n",
       "corr2      1.000000  \n",
       "corr3      1.000000  "
      ]
     },
     "execution_count": 32,
     "metadata": {},
     "output_type": "execute_result"
    }
   ],
   "source": [
    "dataAds.corr()"
   ]
  },
  {
   "cell_type": "code",
   "execution_count": 33,
   "id": "99441548-b008-4444-a66a-10016ed6e674",
   "metadata": {},
   "outputs": [
    {
     "data": {
      "text/plain": [
       "<matplotlib.image.AxesImage at 0x7fd5fe192520>"
      ]
     },
     "execution_count": 33,
     "metadata": {},
     "output_type": "execute_result"
    },
    {
     "data": {
      "image/png": "[encoded data removed]",
      "text/plain": [
       "<Figure size 288x288 with 1 Axes>"
      ]
     },
     "metadata": {
      "needs_background": "light"
     },
     "output_type": "display_data"
    }
   ],
   "source": [
    "plt.matshow(dataAds.corr())"
   ]
  },
  {
   "cell_type": "code",
   "execution_count": null,
   "id": "2c08ff52-6166-4ae3-82e6-345dc66ab72c",
   "metadata": {},
   "outputs": [],
   "source": []
  }
 ],
 "metadata": {
  "kernelspec": {
   "display_name": "anaconda-2022.05-py39",
   "language": "python",
   "name": "conda-env-anaconda-2022.05-py39-py"
  },
  "language_info": {
   "codemirror_mode": {
    "name": "ipython",
    "version": 3
   },
   "file_extension": ".py",
   "mimetype": "text/x-python",
   "name": "python",
   "nbconvert_exporter": "python",
   "pygments_lexer": "ipython3",
   "version": "3.9.12"
  }
 },
 "nbformat": 4,
 "nbformat_minor": 5
}
